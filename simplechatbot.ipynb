{
  "nbformat": 4,
  "nbformat_minor": 0,
  "metadata": {
    "colab": {
      "provenance": []
    },
    "kernelspec": {
      "name": "python3",
      "display_name": "Python 3"
    },
    "language_info": {
      "name": "python"
    }
  },
  "cells": [
    {
      "source": [
        "import time\n",
        "\n",
        "def simplechatbot():\n",
        "    \"\"\"\n",
        "    This function implements a simple chatbot that responds to user input based on a dictionary of questions and answers.\n",
        "    \"\"\"\n",
        "    qna = {\n",
        "        \"hi\": \"hey\",\n",
        "        \"how are you\": \"i am fine\",\n",
        "        \"what is your age\": \"i am 20 year old\",\n",
        "        \"what is your name\": \"my name is akash\",\n",
        "        \"what is time now\": time.ctime(),\n",
        "    }\n",
        "\n",
        "    while True:\n",
        "        qs = input()\n",
        "\n",
        "        if qs == \"quit\":\n",
        "            print(\"thank you for your time\")\n",
        "            break\n",
        "        elif qna.get(qs) == None:\n",
        "            print(\"sorry, can you ask another question\")\n",
        "        else:\n",
        "            print(qna.get(qs))\n",
        "\n",
        "if __name__ == \"__main__\":\n",
        "    simplechatbot()"
      ],
      "cell_type": "code",
      "metadata": {
        "colab": {
          "base_uri": "https://localhost:8080/"
        },
        "id": "fNVKE_7b3dTw",
        "outputId": "78f040d7-2c6b-4fd9-ec6c-2107b9ad0df7"
      },
      "execution_count": 2,
      "outputs": [
        {
          "output_type": "stream",
          "name": "stdout",
          "text": [
            "hi\n",
            "hey\n",
            "how are you\n",
            "i am fine\n",
            "what is your age\n",
            "i am 20 year old\n",
            "what is time now\n",
            "Fri Jan 26 08:23:27 2024\n",
            "which standard you study\n",
            "sorry, can you ask another question\n",
            "quit\n",
            "thank you for your time\n"
          ]
        }
      ]
    }
  ]
}