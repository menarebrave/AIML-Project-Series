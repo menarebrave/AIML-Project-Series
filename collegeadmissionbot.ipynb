{
  "nbformat": 4,
  "nbformat_minor": 0,
  "metadata": {
    "colab": {
      "provenance": []
    },
    "kernelspec": {
      "name": "python3",
      "display_name": "Python 3"
    },
    "language_info": {
      "name": "python"
    }
  },
  "cells": [
    {
      "source": [
        "import time\n",
        "\n",
        "def collegeadmissionchatbot():\n",
        "    \"\"\"\n",
        "    This function implements a simple chatbot that responds to user input based on a dictionary of questions and answers.\n",
        "    \"\"\"\n",
        "    qna = {\n",
        "        \"hi\": \"hey\",\n",
        "        \"how are you\": \"i am fine\",\n",
        "\n",
        "        \"what is time now\": time.ctime(),\n",
        "        \"what is admission procedure\": \" fillup the application form ,and submit necessary document.\",\n",
        "        \"what are courses offered by college\": \"college offers courses related to B.TECH in CSE, EE, ECE, MNC, CE. \",\n",
        "        \"what is per semester fee\": \" semester fee is RS 100000\",\n",
        "        \"what are criteria of fee remession\": \" fee remession is given to economically weaker student having parental income is less than 5 lakhs/annum\",\n",
        "        \"what is placement rate of college.\" : \"placement rate is 95%.\",\n",
        "\n",
        "    }\n",
        "\n",
        "    while True:\n",
        "        qs = input()\n",
        "\n",
        "        if qs == \"quit\":\n",
        "            print(\"thank you for your time\")\n",
        "            break\n",
        "        elif qna.get(qs) == None:\n",
        "            print(\"sorry, can you ask another question\")\n",
        "        else:\n",
        "            print(qna.get(qs))\n",
        "\n",
        "if __name__ == \"__main__\":\n",
        "    collegeadmissionchatbot()"
      ],
      "cell_type": "code",
      "metadata": {
        "colab": {
          "base_uri": "https://localhost:8080/"
        },
        "id": "PZdbDSK-_I0v",
        "outputId": "8bb8b1fa-c132-4a37-b06a-ea4223ce056e"
      },
      "execution_count": 3,
      "outputs": [
        {
          "output_type": "stream",
          "name": "stdout",
          "text": [
            "hi\n",
            "hey\n",
            "what is admission procedure\n",
            " fillup the application form ,and submit necessary document.\n",
            "what is placement rate of college\n",
            "sorry, can you ask another question\n",
            "what is placement rate of college.\n",
            "placement rate is 95%.\n",
            "what is per semester fee\n",
            " semester fee is RS 100000\n",
            "quit\n",
            "thank you for your time\n"
          ]
        }
      ]
    }
  ]
}